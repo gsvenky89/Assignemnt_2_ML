{
  "nbformat": 4,
  "nbformat_minor": 0,
  "metadata": {
    "colab": {
      "name": "CNN_for_CIFAR_10",
      "version": "0.3.2",
      "provenance": [],
      "collapsed_sections": [],
      "include_colab_link": true
    },
    "kernelspec": {
      "name": "python3",
      "display_name": "Python 3"
    },
    "accelerator": "GPU"
  },
  "cells": [
    {
      "cell_type": "markdown",
      "metadata": {
        "id": "view-in-github",
        "colab_type": "text"
      },
      "source": [
        "<a href=\"https://colab.research.google.com/github/gsvenky89/Assignemnt_2_ML/blob/master/CNN_for_CIFAR_10.ipynb\" target=\"_parent\"><img src=\"https://colab.research.google.com/assets/colab-badge.svg\" alt=\"Open In Colab\"/></a>"
      ]
    },
    {
      "metadata": {
        "id": "qlnNHK0X--7T",
        "colab_type": "code",
        "colab": {
          "base_uri": "https://localhost:8080/",
          "height": 187
        },
        "outputId": "21a0bfbd-1e99-4b2d-fc22-05675bc95f76"
      },
      "cell_type": "code",
      "source": [
        "!pip install keras-tqdm"
      ],
      "execution_count": 56,
      "outputs": [
        {
          "output_type": "stream",
          "text": [
            "Requirement already satisfied: keras-tqdm in /usr/local/lib/python3.6/dist-packages (2.0.1)\n",
            "Requirement already satisfied: tqdm in /usr/local/lib/python3.6/dist-packages (from keras-tqdm) (4.28.1)\n",
            "Requirement already satisfied: Keras in /usr/local/lib/python3.6/dist-packages (from keras-tqdm) (2.2.4)\n",
            "Requirement already satisfied: pyyaml in /usr/local/lib/python3.6/dist-packages (from Keras->keras-tqdm) (3.13)\n",
            "Requirement already satisfied: keras-preprocessing>=1.0.5 in /usr/local/lib/python3.6/dist-packages (from Keras->keras-tqdm) (1.0.5)\n",
            "Requirement already satisfied: scipy>=0.14 in /usr/local/lib/python3.6/dist-packages (from Keras->keras-tqdm) (1.1.0)\n",
            "Requirement already satisfied: keras-applications>=1.0.6 in /usr/local/lib/python3.6/dist-packages (from Keras->keras-tqdm) (1.0.6)\n",
            "Requirement already satisfied: six>=1.9.0 in /usr/local/lib/python3.6/dist-packages (from Keras->keras-tqdm) (1.11.0)\n",
            "Requirement already satisfied: numpy>=1.9.1 in /usr/local/lib/python3.6/dist-packages (from Keras->keras-tqdm) (1.14.6)\n",
            "Requirement already satisfied: h5py in /usr/local/lib/python3.6/dist-packages (from Keras->keras-tqdm) (2.8.0)\n"
          ],
          "name": "stdout"
        }
      ]
    },
    {
      "metadata": {
        "id": "kNXYabYa_FEI",
        "colab_type": "code",
        "colab": {}
      },
      "cell_type": "code",
      "source": [
        "def reset_tf_session():\n",
        "    K.clear_session()\n",
        "    tf.reset_default_graph()\n",
        "    s = K.get_session()\n",
        "    return s"
      ],
      "execution_count": 0,
      "outputs": []
    },
    {
      "metadata": {
        "id": "bnvcsjVr_L0Z",
        "colab_type": "code",
        "colab": {}
      },
      "cell_type": "code",
      "source": [
        "import sys\n",
        "sys.path.append(\"..\")\n",
        "sys.setrecursionlimit(3000)"
      ],
      "execution_count": 0,
      "outputs": []
    },
    {
      "metadata": {
        "id": "s5ZnsY3vH7Bq",
        "colab_type": "code",
        "colab": {
          "base_uri": "https://localhost:8080/",
          "height": 51
        },
        "outputId": "cc5737ad-ee48-4b55-d382-fc9361992c4c"
      },
      "cell_type": "code",
      "source": [
        "import tensorflow as tf\n",
        "import keras\n",
        "from keras import backend as K\n",
        "import numpy as np\n",
        "%matplotlib inline\n",
        "import matplotlib.pyplot as plt\n",
        "print(\"TensoreFlow Ver:\",tf.__version__)\n",
        "print(\"Keras Ver:\",keras.__version__)\n",
        "import keras.utils\n",
        "from keras_tqdm import TQDMCallback\n",
        "import cv2\n",
        "from sklearn.metrics import accuracy_score"
      ],
      "execution_count": 59,
      "outputs": [
        {
          "output_type": "stream",
          "text": [
            "TensoreFlow Ver: 1.12.0\n",
            "Keras Ver: 2.2.4\n"
          ],
          "name": "stdout"
        }
      ]
    },
    {
      "metadata": {
        "id": "gqZ0Qb4fJfvy",
        "colab_type": "code",
        "colab": {
          "base_uri": "https://localhost:8080/",
          "height": 34
        },
        "outputId": "6f61cffd-acf1-48e6-d0bc-d357e30a0093"
      },
      "cell_type": "code",
      "source": [
        "reset_tf_session() #clearing up any default graph"
      ],
      "execution_count": 60,
      "outputs": [
        {
          "output_type": "execute_result",
          "data": {
            "text/plain": [
              "<tensorflow.python.client.session.Session at 0x7f37c0101550>"
            ]
          },
          "metadata": {
            "tags": []
          },
          "execution_count": 60
        }
      ]
    },
    {
      "metadata": {
        "id": "lpN1avI2H9Rp",
        "colab_type": "code",
        "colab": {}
      },
      "cell_type": "code",
      "source": [
        "from keras.datasets import cifar10\n",
        "(x_train_i, y_train_i), (x_test_i, y_test_i) = cifar10.load_data()\n",
        "x_train = x_train_i[range(5000),:]\n",
        "y_train = y_train_i[range(5000),:]\n",
        "x_test = x_test_i[range(2000),:]\n",
        "y_test = y_test_i[range(2000),:]\n",
        "del x_train_i,y_train_i,x_test_i,y_test_i"
      ],
      "execution_count": 0,
      "outputs": []
    },
    {
      "metadata": {
        "id": "oKfYZEBPIBPA",
        "colab_type": "code",
        "colab": {
          "base_uri": "https://localhost:8080/",
          "height": 51
        },
        "outputId": "a7efe091-eb4e-4a33-8b0f-21d1dcdce8f6"
      },
      "cell_type": "code",
      "source": [
        "print(\"Train samples:\", x_train.shape, y_train.shape)\n",
        "print(\"Test samples:\", x_test.shape, y_test.shape)"
      ],
      "execution_count": 62,
      "outputs": [
        {
          "output_type": "stream",
          "text": [
            "Train samples: (5000, 32, 32, 3) (5000, 1)\n",
            "Test samples: (2000, 32, 32, 3) (2000, 1)\n"
          ],
          "name": "stdout"
        }
      ]
    },
    {
      "metadata": {
        "id": "Tz0aR2rmIDJR",
        "colab_type": "code",
        "colab": {}
      },
      "cell_type": "code",
      "source": [
        "NUM_CLASSES = 10\n",
        "cifar10_classes = [\"airplane\", \"automobile\", \"bird\", \"cat\", \"deer\", \n",
        "                   \"dog\", \"frog\", \"horse\", \"ship\", \"truck\"]"
      ],
      "execution_count": 0,
      "outputs": []
    },
    {
      "metadata": {
        "id": "pb_-ockIIPCT",
        "colab_type": "code",
        "colab": {
          "base_uri": "https://localhost:8080/",
          "height": 867
        },
        "outputId": "5125747d-c843-4549-9c2a-63870ac67068"
      },
      "cell_type": "code",
      "source": [
        "# normalize inputs\n",
        "x_train2 = x_train/255. - 0.5\n",
        "x_test2 = x_test/255. - 0.5\n",
        "del x_train\n",
        "del x_test\n",
        "# convert class labels to one-hot encoded, should have shape (?, NUM_CLASSES)\n",
        "y_train2 = keras.utils.to_categorical(y_train[range(5000),:], num_classes=NUM_CLASSES)\n",
        "y_test2 = keras.utils.to_categorical(y_test[range(2000),:], num_classes=NUM_CLASSES)\n",
        "print(x_test2[600,:,:,:])\n",
        "print(y_train2.shape,y_test2.shape)"
      ],
      "execution_count": 64,
      "outputs": [
        {
          "output_type": "stream",
          "text": [
            "[[[-0.27647059 -0.09215686  0.09215686]\n",
            "  [-0.27647059 -0.09215686  0.08823529]\n",
            "  [-0.26862745 -0.08431373  0.09607843]\n",
            "  ...\n",
            "  [-0.28039216 -0.10784314  0.06862745]\n",
            "  [-0.28431373 -0.11568627  0.06470588]\n",
            "  [-0.28431373 -0.11568627  0.06078431]]\n",
            "\n",
            " [[-0.26078431 -0.07647059  0.10784314]\n",
            "  [-0.26078431 -0.07647059  0.1       ]\n",
            "  [-0.25686275 -0.07254902  0.10784314]\n",
            "  ...\n",
            "  [-0.26862745 -0.09607843  0.08039216]\n",
            "  [-0.27254902 -0.1         0.07254902]\n",
            "  [-0.27254902 -0.1         0.07254902]]\n",
            "\n",
            " [[-0.25294118 -0.05294118  0.12745098]\n",
            "  [-0.25294118 -0.05686275  0.11960784]\n",
            "  [-0.25294118 -0.05294118  0.12352941]\n",
            "  ...\n",
            "  [-0.26078431 -0.07647059  0.08823529]\n",
            "  [-0.26078431 -0.08039216  0.08823529]\n",
            "  [-0.26078431 -0.08823529  0.08039216]]\n",
            "\n",
            " ...\n",
            "\n",
            " [[ 0.0372549   0.06862745  0.04901961]\n",
            "  [-0.06078431 -0.02941176 -0.04901961]\n",
            "  [-0.11568627 -0.08431373 -0.10392157]\n",
            "  ...\n",
            "  [-0.36666667 -0.34705882 -0.37058824]\n",
            "  [-0.41372549 -0.39411765 -0.41764706]\n",
            "  [-0.43333333 -0.40980392 -0.4372549 ]]\n",
            "\n",
            " [[-0.19803922 -0.16666667 -0.18627451]\n",
            "  [-0.08823529 -0.05294118 -0.07254902]\n",
            "  [ 0.07254902  0.10784314  0.08823529]\n",
            "  ...\n",
            "  [-0.35098039 -0.33137255 -0.35490196]\n",
            "  [-0.39019608 -0.37058824 -0.39411765]\n",
            "  [-0.39411765 -0.3745098  -0.39803922]]\n",
            "\n",
            " [[ 0.25294118  0.30392157  0.28039216]\n",
            "  [ 0.33529412  0.37843137  0.35490196]\n",
            "  [ 0.3627451   0.40588235  0.38235294]\n",
            "  ...\n",
            "  [-0.44509804 -0.42156863 -0.44901961]\n",
            "  [-0.45294118 -0.43333333 -0.45686275]\n",
            "  [-0.44901961 -0.42941176 -0.45294118]]]\n",
            "(5000, 10) (2000, 10)\n"
          ],
          "name": "stdout"
        }
      ]
    },
    {
      "metadata": {
        "id": "-O_GKWxtITq6",
        "colab_type": "code",
        "colab": {}
      },
      "cell_type": "code",
      "source": [
        "# import necessary building blocks\n",
        "from keras.layers import Input, Dense, Conv2D, MaxPooling2D, AveragePooling2D, ZeroPadding2D, Flatten, Activation, add, Dropout\n",
        "from keras.optimizers import SGD\n",
        "from keras.layers.normalization import BatchNormalization\n",
        "from keras.models import Model,Sequential\n",
        "from keras import initializers\n",
        "from keras.engine import Layer, InputSpec\n",
        "from keras.layers.advanced_activations import LeakyReLU"
      ],
      "execution_count": 0,
      "outputs": []
    },
    {
      "metadata": {
        "id": "u6LOrNWqIcu1",
        "colab_type": "code",
        "colab": {}
      },
      "cell_type": "code",
      "source": [
        "def make_model():\n",
        "    \"\"\"\n",
        "    Define your model architecture here.\n",
        "    Returns `Sequential` model.\n",
        "    \"\"\"\n",
        "    model = Sequential()\n",
        "    \n",
        "    # CONV 1\n",
        "    # first layer needs to define \"input_shape\"\n",
        "    model.add(Conv2D(16, (3, 3), strides = (1, 1), padding=\"same\", name = 'conv_layer_1', input_shape=(32, 32, 3)))   \n",
        "    model.add(LeakyReLU(0.1))\n",
        "    \n",
        "    # CONV 2\n",
        "    model.add(Conv2D(32, (3, 3), strides = (1, 1), padding=\"same\", name = 'conv_layer_2'))  \n",
        "    model.add(LeakyReLU(0.1))\n",
        "    \n",
        "    # MaxPooling2D 1\n",
        "    model.add(MaxPooling2D((2, 2), name='max_pool_1'))\n",
        "    \n",
        "    # Dropout\n",
        "    model.add(Dropout(0.25, noise_shape=None, seed=0))\n",
        "    \n",
        "    # CONV 3\n",
        "    model.add(Conv2D(32, (3, 3), strides = (1, 1), padding=\"same\", name = 'conv_layer_3')) \n",
        "    model.add(LeakyReLU(0.1))\n",
        "    \n",
        "    # CONV 4\n",
        "    model.add(Conv2D(64, (3, 3), strides = (1, 1), padding=\"same\", name = 'conv_layer_4'))  \n",
        "    model.add(LeakyReLU(0.1))\n",
        "    \n",
        "    # MaxPooling2D 1\n",
        "    model.add(MaxPooling2D((2, 2), name='max_pool_2'))\n",
        "    \n",
        "    # Dropout\n",
        "    model.add(Dropout(0.25, noise_shape=None, seed=0))\n",
        "    \n",
        "    # Flatten\n",
        "    model.add(Flatten())    \n",
        "    \n",
        "    # FC\n",
        "    model.add(Dense(256, name='fc1'))\n",
        "    model.add(Dropout(0.5, noise_shape=None, seed=0))\n",
        "    \n",
        "    # FC\n",
        "    model.add(Dense(NUM_CLASSES))  # the last layer with neuron for each class    \n",
        "    model.add(Activation(\"softmax\"))  # output probabilities\n",
        "\n",
        "    return model\n"
      ],
      "execution_count": 0,
      "outputs": []
    },
    {
      "metadata": {
        "id": "V6jGmSY9J1gx",
        "colab_type": "code",
        "colab": {
          "base_uri": "https://localhost:8080/",
          "height": 714
        },
        "outputId": "4a26188e-318d-4eb7-9dac-33e0e80fbf50"
      },
      "cell_type": "code",
      "source": [
        "# describe model\n",
        "reset_tf_session() # clear default graph\n",
        "model = make_model()\n",
        "model.summary()\n",
        "model.compile(\n",
        "    loss='categorical_crossentropy', # this is our cross-entropy\n",
        "    optimizer='adam',\n",
        "    metrics=['accuracy']  # report accuracy during training\n",
        ")\n"
      ],
      "execution_count": 67,
      "outputs": [
        {
          "output_type": "stream",
          "text": [
            "_________________________________________________________________\n",
            "Layer (type)                 Output Shape              Param #   \n",
            "=================================================================\n",
            "conv_layer_1 (Conv2D)        (None, 32, 32, 16)        448       \n",
            "_________________________________________________________________\n",
            "leaky_re_lu_1 (LeakyReLU)    (None, 32, 32, 16)        0         \n",
            "_________________________________________________________________\n",
            "conv_layer_2 (Conv2D)        (None, 32, 32, 32)        4640      \n",
            "_________________________________________________________________\n",
            "leaky_re_lu_2 (LeakyReLU)    (None, 32, 32, 32)        0         \n",
            "_________________________________________________________________\n",
            "max_pool_1 (MaxPooling2D)    (None, 16, 16, 32)        0         \n",
            "_________________________________________________________________\n",
            "dropout_1 (Dropout)          (None, 16, 16, 32)        0         \n",
            "_________________________________________________________________\n",
            "conv_layer_3 (Conv2D)        (None, 16, 16, 32)        9248      \n",
            "_________________________________________________________________\n",
            "leaky_re_lu_3 (LeakyReLU)    (None, 16, 16, 32)        0         \n",
            "_________________________________________________________________\n",
            "conv_layer_4 (Conv2D)        (None, 16, 16, 64)        18496     \n",
            "_________________________________________________________________\n",
            "leaky_re_lu_4 (LeakyReLU)    (None, 16, 16, 64)        0         \n",
            "_________________________________________________________________\n",
            "max_pool_2 (MaxPooling2D)    (None, 8, 8, 64)          0         \n",
            "_________________________________________________________________\n",
            "dropout_2 (Dropout)          (None, 8, 8, 64)          0         \n",
            "_________________________________________________________________\n",
            "flatten_1 (Flatten)          (None, 4096)              0         \n",
            "_________________________________________________________________\n",
            "fc1 (Dense)                  (None, 256)               1048832   \n",
            "_________________________________________________________________\n",
            "dropout_3 (Dropout)          (None, 256)               0         \n",
            "_________________________________________________________________\n",
            "dense_1 (Dense)              (None, 10)                2570      \n",
            "_________________________________________________________________\n",
            "activation_1 (Activation)    (None, 10)                0         \n",
            "=================================================================\n",
            "Total params: 1,084,234\n",
            "Trainable params: 1,084,234\n",
            "Non-trainable params: 0\n",
            "_________________________________________________________________\n"
          ],
          "name": "stdout"
        }
      ]
    },
    {
      "metadata": {
        "id": "BYHNXl_fItjP",
        "colab_type": "code",
        "colab": {
          "base_uri": "https://localhost:8080/",
          "height": 391
        },
        "outputId": "cb9a3ffd-2c8f-40d7-ee50-05920fbbf969"
      },
      "cell_type": "code",
      "source": [
        "model.fit(\n",
        "    x_train2, \n",
        "    y_train2,\n",
        "    batch_size=8, \n",
        "    epochs=10,\n",
        "    validation_split= 0.3,\n",
        "    #validation_data=(x_test2, y_test2),\n",
        "    verbose = 1,shuffle=True\n",
        ")"
      ],
      "execution_count": 68,
      "outputs": [
        {
          "output_type": "stream",
          "text": [
            "Train on 3500 samples, validate on 1500 samples\n",
            "Epoch 1/10\n",
            "3500/3500 [==============================] - 6s 2ms/step - loss: 1.9359 - acc: 0.3043 - val_loss: 1.6199 - val_acc: 0.4173\n",
            "Epoch 2/10\n",
            "3500/3500 [==============================] - 6s 2ms/step - loss: 1.5630 - acc: 0.4346 - val_loss: 1.4398 - val_acc: 0.4813\n",
            "Epoch 3/10\n",
            "3500/3500 [==============================] - 6s 2ms/step - loss: 1.3882 - acc: 0.5063 - val_loss: 1.4328 - val_acc: 0.4827\n",
            "Epoch 4/10\n",
            "3500/3500 [==============================] - 6s 2ms/step - loss: 1.2100 - acc: 0.5737 - val_loss: 1.3867 - val_acc: 0.5127\n",
            "Epoch 5/10\n",
            "3500/3500 [==============================] - 6s 2ms/step - loss: 1.0908 - acc: 0.6097 - val_loss: 1.3098 - val_acc: 0.5307\n",
            "Epoch 6/10\n",
            "3500/3500 [==============================] - 6s 2ms/step - loss: 0.9407 - acc: 0.6660 - val_loss: 1.3079 - val_acc: 0.5547\n",
            "Epoch 7/10\n",
            "3500/3500 [==============================] - 6s 2ms/step - loss: 0.8279 - acc: 0.7046 - val_loss: 1.3492 - val_acc: 0.5607\n",
            "Epoch 8/10\n",
            "3500/3500 [==============================] - 6s 2ms/step - loss: 0.7445 - acc: 0.7371 - val_loss: 1.3926 - val_acc: 0.5787\n",
            "Epoch 9/10\n",
            "3500/3500 [==============================] - 6s 2ms/step - loss: 0.6353 - acc: 0.7734 - val_loss: 1.5661 - val_acc: 0.5687\n",
            "Epoch 10/10\n",
            "3500/3500 [==============================] - 6s 2ms/step - loss: 0.5661 - acc: 0.8000 - val_loss: 1.6710 - val_acc: 0.5680\n"
          ],
          "name": "stdout"
        },
        {
          "output_type": "execute_result",
          "data": {
            "text/plain": [
              "<keras.callbacks.History at 0x7f37a051b860>"
            ]
          },
          "metadata": {
            "tags": []
          },
          "execution_count": 68
        }
      ]
    },
    {
      "metadata": {
        "id": "u2FppetZIwiP",
        "colab_type": "code",
        "colab": {
          "base_uri": "https://localhost:8080/",
          "height": 34
        },
        "outputId": "8f8ab96a-cac6-4da5-84f7-a747ee2eb3b8"
      },
      "cell_type": "code",
      "source": [
        "y_pred_test = model.predict(x_test2)\n",
        "y_pred_test_classes = np.argmax(y_pred_test, axis=1)\n",
        "y_pred_test_max_probas = np.max(y_pred_test, axis=1)\n",
        "print(\"Test accuracy:\", accuracy_score(y_test, y_pred_test_classes))"
      ],
      "execution_count": 69,
      "outputs": [
        {
          "output_type": "stream",
          "text": [
            "Test accuracy: 0.5595\n"
          ],
          "name": "stdout"
        }
      ]
    },
    {
      "metadata": {
        "id": "6pEOt2RBIzkE",
        "colab_type": "code",
        "colab": {}
      },
      "cell_type": "code",
      "source": [
        "model.save_weights(\"weights.h5\")"
      ],
      "execution_count": 0,
      "outputs": []
    }
  ]
}