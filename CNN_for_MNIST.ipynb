{
  "nbformat": 4,
  "nbformat_minor": 0,
  "metadata": {
    "colab": {
      "name": "CNN_for_MNIST",
      "version": "0.3.2",
      "provenance": [],
      "collapsed_sections": [],
      "include_colab_link": true
    },
    "kernelspec": {
      "name": "python3",
      "display_name": "Python 3"
    },
    "accelerator": "GPU"
  },
  "cells": [
    {
      "cell_type": "markdown",
      "metadata": {
        "id": "view-in-github",
        "colab_type": "text"
      },
      "source": [
        "<a href=\"https://colab.research.google.com/github/gsvenky89/Assignemnt_2_ML/blob/master/CNN_for_MNIST.ipynb\" target=\"_parent\"><img src=\"https://colab.research.google.com/assets/colab-badge.svg\" alt=\"Open In Colab\"/></a>"
      ]
    },
    {
      "metadata": {
        "id": "qlnNHK0X--7T",
        "colab_type": "code",
        "outputId": "513c99fc-4f70-4cc3-c1f2-51ae641f6d18",
        "colab": {
          "base_uri": "https://localhost:8080/",
          "height": 187
        }
      },
      "cell_type": "code",
      "source": [
        "!pip install keras-tqdm"
      ],
      "execution_count": 1,
      "outputs": [
        {
          "output_type": "stream",
          "text": [
            "Requirement already satisfied: keras-tqdm in /usr/local/lib/python3.6/dist-packages (2.0.1)\n",
            "Requirement already satisfied: Keras in /usr/local/lib/python3.6/dist-packages (from keras-tqdm) (2.2.4)\n",
            "Requirement already satisfied: tqdm in /usr/local/lib/python3.6/dist-packages (from keras-tqdm) (4.28.1)\n",
            "Requirement already satisfied: pyyaml in /usr/local/lib/python3.6/dist-packages (from Keras->keras-tqdm) (3.13)\n",
            "Requirement already satisfied: scipy>=0.14 in /usr/local/lib/python3.6/dist-packages (from Keras->keras-tqdm) (1.1.0)\n",
            "Requirement already satisfied: keras-preprocessing>=1.0.5 in /usr/local/lib/python3.6/dist-packages (from Keras->keras-tqdm) (1.0.5)\n",
            "Requirement already satisfied: six>=1.9.0 in /usr/local/lib/python3.6/dist-packages (from Keras->keras-tqdm) (1.11.0)\n",
            "Requirement already satisfied: keras-applications>=1.0.6 in /usr/local/lib/python3.6/dist-packages (from Keras->keras-tqdm) (1.0.6)\n",
            "Requirement already satisfied: numpy>=1.9.1 in /usr/local/lib/python3.6/dist-packages (from Keras->keras-tqdm) (1.14.6)\n",
            "Requirement already satisfied: h5py in /usr/local/lib/python3.6/dist-packages (from Keras->keras-tqdm) (2.8.0)\n"
          ],
          "name": "stdout"
        }
      ]
    },
    {
      "metadata": {
        "id": "kNXYabYa_FEI",
        "colab_type": "code",
        "colab": {}
      },
      "cell_type": "code",
      "source": [
        "def reset_tf_session():\n",
        "    K.clear_session()\n",
        "    tf.reset_default_graph()\n",
        "    s = K.get_session()\n",
        "    return s"
      ],
      "execution_count": 0,
      "outputs": []
    },
    {
      "metadata": {
        "id": "bnvcsjVr_L0Z",
        "colab_type": "code",
        "colab": {}
      },
      "cell_type": "code",
      "source": [
        "import sys\n",
        "sys.path.append(\"..\")\n",
        "sys.setrecursionlimit(3000)"
      ],
      "execution_count": 0,
      "outputs": []
    },
    {
      "metadata": {
        "id": "s5ZnsY3vH7Bq",
        "colab_type": "code",
        "outputId": "812ee486-c191-4f74-e006-0e1e65d24437",
        "colab": {
          "base_uri": "https://localhost:8080/",
          "height": 68
        }
      },
      "cell_type": "code",
      "source": [
        "import tensorflow as tf\n",
        "import keras\n",
        "from keras import backend as K\n",
        "import numpy as np\n",
        "%matplotlib inline\n",
        "import matplotlib.pyplot as plt\n",
        "print(\"TensoreFlow Ver:\",tf.__version__)\n",
        "print(\"Keras Ver:\",keras.__version__)\n",
        "import keras.utils\n",
        "from keras_tqdm import TQDMCallback\n",
        "import cv2\n",
        "from sklearn.metrics import accuracy_score"
      ],
      "execution_count": 4,
      "outputs": [
        {
          "output_type": "stream",
          "text": [
            "TensoreFlow Ver: 1.12.0\n",
            "Keras Ver: 2.2.4\n"
          ],
          "name": "stdout"
        },
        {
          "output_type": "stream",
          "text": [
            "Using TensorFlow backend.\n"
          ],
          "name": "stderr"
        }
      ]
    },
    {
      "metadata": {
        "id": "gqZ0Qb4fJfvy",
        "colab_type": "code",
        "outputId": "c8546aaa-526b-4048-e4b8-bcf7ddd87f69",
        "colab": {
          "base_uri": "https://localhost:8080/",
          "height": 34
        }
      },
      "cell_type": "code",
      "source": [
        "reset_tf_session() #clearing up any default graph"
      ],
      "execution_count": 5,
      "outputs": [
        {
          "output_type": "execute_result",
          "data": {
            "text/plain": [
              "<tensorflow.python.client.session.Session at 0x7f5fa33e4668>"
            ]
          },
          "metadata": {
            "tags": []
          },
          "execution_count": 5
        }
      ]
    },
    {
      "metadata": {
        "id": "lpN1avI2H9Rp",
        "colab_type": "code",
        "colab": {}
      },
      "cell_type": "code",
      "source": [
        "from keras.datasets import mnist\n",
        "(x_train_i, y_train_i), (x_test_i, y_test_i) = mnist.load_data()\n",
        "my_list = np.random.choice(x_train_i.shape[0],5000)\n",
        "x_train = x_train_i[my_list,:]\n",
        "y_train = y_train_i[my_list,]\n",
        "del my_list\n",
        "my_list = np.random.choice(x_test_i.shape[0],2000)\n",
        "x_test = x_test_i[my_list,:]\n",
        "y_test = y_test_i[my_list,]\n",
        "del x_train_i,y_train_i,x_test_i,y_test_i,my_list"
      ],
      "execution_count": 0,
      "outputs": []
    },
    {
      "metadata": {
        "id": "oKfYZEBPIBPA",
        "colab_type": "code",
        "outputId": "72e379ca-8f90-47a2-8aed-1da24e39c970",
        "colab": {
          "base_uri": "https://localhost:8080/",
          "height": 51
        }
      },
      "cell_type": "code",
      "source": [
        "print(\"Train samples:\", x_train.shape, y_train.shape)\n",
        "print(\"Test samples:\", x_test.shape, y_test.shape)"
      ],
      "execution_count": 7,
      "outputs": [
        {
          "output_type": "stream",
          "text": [
            "Train samples: (5000, 28, 28) (5000,)\n",
            "Test samples: (2000, 28, 28) (2000,)\n"
          ],
          "name": "stdout"
        }
      ]
    },
    {
      "metadata": {
        "id": "Tz0aR2rmIDJR",
        "colab_type": "code",
        "colab": {}
      },
      "cell_type": "code",
      "source": [
        "NUM_CLASSES = 10"
      ],
      "execution_count": 0,
      "outputs": []
    },
    {
      "metadata": {
        "id": "pb_-ockIIPCT",
        "colab_type": "code",
        "outputId": "f7196e2b-b5e3-4bcd-97bd-7708ff5b3008",
        "colab": {
          "base_uri": "https://localhost:8080/",
          "height": 34
        }
      },
      "cell_type": "code",
      "source": [
        "# normalize inputs\n",
        "x_train2t = x_train/255. - 0.5\n",
        "x_test2t = x_test/255. - 0.5\n",
        "# convert class labels to one-hot encoded, should have shape (?, NUM_CLASSES)\n",
        "y_train2 = keras.utils.to_categorical(y_train[range(5000),], num_classes=NUM_CLASSES)\n",
        "y_test2 = keras.utils.to_categorical(y_test[range(2000),], num_classes=NUM_CLASSES)\n",
        "print(y_train2.shape,y_test2.shape)"
      ],
      "execution_count": 9,
      "outputs": [
        {
          "output_type": "stream",
          "text": [
            "(5000, 10) (2000, 10)\n"
          ],
          "name": "stdout"
        }
      ]
    },
    {
      "metadata": {
        "id": "AqhvlxelbeFg",
        "colab_type": "code",
        "colab": {}
      },
      "cell_type": "code",
      "source": [
        "#Converting the grey-scale image to RGB to suit the Input Layer of ResNet152\n",
        "x_train2s = []\n",
        "x_test2s = []\n",
        "for i in range(x_train2t.shape[0]):\n",
        " x_train2s.append(np.stack((x_train2t[i,:,:],)*1,axis=-1))\n",
        "x_train2 = np.array(x_train2s,dtype=np.uint8)\n",
        "del x_train2t,x_train2s\n",
        "for i in range(x_test2t.shape[0]):\n",
        " x_test2s.append(np.stack((x_test2t[i,:,:],)*1,axis=-1))\n",
        "x_test2 = np.array(x_test2s,dtype=np.uint8)\n",
        "del x_test2t,x_test2s"
      ],
      "execution_count": 0,
      "outputs": []
    },
    {
      "metadata": {
        "id": "IVdoBh0dbwlT",
        "colab_type": "code",
        "colab": {
          "base_uri": "https://localhost:8080/",
          "height": 34
        },
        "outputId": "da5c2a96-fe10-43f2-f5c4-1af78d51b26b"
      },
      "cell_type": "code",
      "source": [
        "print(x_train2.shape,x_test2.shape)"
      ],
      "execution_count": 11,
      "outputs": [
        {
          "output_type": "stream",
          "text": [
            "(5000, 28, 28, 1) (2000, 28, 28, 1)\n"
          ],
          "name": "stdout"
        }
      ]
    },
    {
      "metadata": {
        "id": "A7hbzFdgOXGz",
        "colab_type": "code",
        "colab": {}
      },
      "cell_type": "code",
      "source": [
        "NUM_CLASSES = 10\n",
        "mnist_classes = [\"0\", \"1\", \"2\", \"3\", \"4\", \n",
        "                   \"5\", \"6\", \"7\", \"8\", \"9\"]"
      ],
      "execution_count": 0,
      "outputs": []
    },
    {
      "metadata": {
        "id": "WFK1uUzoOXs9",
        "colab_type": "code",
        "colab": {
          "base_uri": "https://localhost:8080/",
          "height": 683
        },
        "outputId": "31926813-30e0-48ce-e4c4-117faee3855b"
      },
      "cell_type": "code",
      "source": [
        "print(\"X_train [shape %s] sample patch:\\n\" % (str(x_train.shape)), x_train[1, 15:20, 5:10])\n",
        "print(\"A closeup of a sample patch:\")\n",
        "plt.imshow(x_train[1, 15:20, 5:10], cmap=\"Greys\")\n",
        "plt.show()\n",
        "print(\"And the whole sample:\")\n",
        "plt.imshow(x_train[2], cmap=\"Greys\")\n",
        "plt.show()\n",
        "print(\"y_train [shape %s] 10 samples:\\n\" % (str(y_train.shape)), y_train[:10])"
      ],
      "execution_count": 13,
      "outputs": [
        {
          "output_type": "stream",
          "text": [
            "X_train [shape (5000, 28, 28)] sample patch:\n",
            " [[  0  96 253 253 158]\n",
            " [  0 100 253 253  55]\n",
            " [  0 186 253 229  31]\n",
            " [  0 210 253 253 237]\n",
            " [  0 142 253 253 253]]\n",
            "A closeup of a sample patch:\n"
          ],
          "name": "stdout"
        },
        {
          "output_type": "display_data",
          "data": {
            "image/png": "[encoded data removed]",
            "text/plain": [
              "<matplotlib.figure.Figure at 0x7f5f91bc0630>"
            ]
          },
          "metadata": {
            "tags": []
          }
        },
        {
          "output_type": "stream",
          "text": [
            "And the whole sample:\n"
          ],
          "name": "stdout"
        },
        {
          "output_type": "display_data",
          "data": {
            "image/png": "[encoded data removed]",
            "text/plain": [
              "<matplotlib.figure.Figure at 0x7f5f4469dd30>"
            ]
          },
          "metadata": {
            "tags": []
          }
        },
        {
          "output_type": "stream",
          "text": [
            "y_train [shape (5000,)] 10 samples:\n",
            " [4 6 6 7 3 0 5 1 2 8]\n"
          ],
          "name": "stdout"
        }
      ]
    },
    {
      "metadata": {
        "id": "-O_GKWxtITq6",
        "colab_type": "code",
        "colab": {}
      },
      "cell_type": "code",
      "source": [
        "# import necessary building blocks\n",
        "from keras.layers import Input, Dense, Conv2D, MaxPooling2D, AveragePooling2D, ZeroPadding2D, Flatten, Activation, add, Dropout\n",
        "from keras.optimizers import SGD\n",
        "from keras.layers.normalization import BatchNormalization\n",
        "from keras.models import Model,Sequential\n",
        "from keras import initializers\n",
        "from keras.engine import Layer, InputSpec\n",
        "from keras.layers.advanced_activations import LeakyReLU"
      ],
      "execution_count": 0,
      "outputs": []
    },
    {
      "metadata": {
        "id": "u6LOrNWqIcu1",
        "colab_type": "code",
        "colab": {}
      },
      "cell_type": "code",
      "source": [
        "def make_model():\n",
        "    \"\"\"\n",
        "    Define your model architecture here.\n",
        "    Returns `Sequential` model.\n",
        "    \"\"\"\n",
        "    model = Sequential()\n",
        "     # CONV 1\n",
        "    # first layer needs to define \"input_shape\"\n",
        "    model.add(Conv2D(16, (3, 3), strides = (1, 1), padding=\"same\", name = 'conv_layer_1', input_shape=(28, 28, 1)))   \n",
        "    model.add(LeakyReLU(0.1))\n",
        "    \n",
        "    # CONV 2\n",
        "    model.add(Conv2D(32, (3, 3), strides = (1, 1), padding=\"same\", name = 'conv_layer_2'))  \n",
        "    model.add(LeakyReLU(0.1))\n",
        "    \n",
        "    # MaxPooling2D 1\n",
        "    model.add(MaxPooling2D((2, 2), name='max_pool_1'))\n",
        "    \n",
        "    # Dropout\n",
        "    model.add(Dropout(0.25, noise_shape=None, seed=0))\n",
        "    \n",
        "    # CONV 3\n",
        "    model.add(Conv2D(32, (3, 3), strides = (1, 1), padding=\"same\", name = 'conv_layer_3')) \n",
        "    model.add(LeakyReLU(0.1))\n",
        "    \n",
        "    # CONV 4\n",
        "    model.add(Conv2D(64, (3, 3), strides = (1, 1), padding=\"same\", name = 'conv_layer_4'))  \n",
        "    model.add(LeakyReLU(0.1))\n",
        "    \n",
        "    # MaxPooling2D 1\n",
        "    model.add(MaxPooling2D((2, 2), name='max_pool_2'))\n",
        "    \n",
        "    # Dropout\n",
        "    model.add(Dropout(0.25, noise_shape=None, seed=0))\n",
        "    \n",
        "    # Flatten\n",
        "    model.add(Flatten())    \n",
        "    \n",
        "    # FC\n",
        "    model.add(Dense(256, name='fc1'))\n",
        "    model.add(Dropout(0.5, noise_shape=None, seed=0))\n",
        "    \n",
        "    # FC\n",
        "    model.add(Dense(NUM_CLASSES))  # the last layer with neuron for each class    \n",
        "    model.add(Activation(\"softmax\"))  # output probabilities\n",
        "\n",
        "    return model"
      ],
      "execution_count": 0,
      "outputs": []
    },
    {
      "metadata": {
        "id": "V6jGmSY9J1gx",
        "colab_type": "code",
        "outputId": "3dce2f53-e276-4892-988b-b6f99325d493",
        "colab": {
          "base_uri": "https://localhost:8080/",
          "height": 714
        }
      },
      "cell_type": "code",
      "source": [
        "# describe model\n",
        "reset_tf_session() # clear default graph\n",
        "model = make_model()\n",
        "model.summary()\n",
        "sgd = SGD(lr=1e-3, decay=1e-6, momentum=0.9, nesterov=True)\n",
        "model.compile(\n",
        "    loss='categorical_crossentropy', # this is our cross-entropy\n",
        "    optimizer=sgd,\n",
        "    metrics=['accuracy']  # report accuracy during training\n",
        ")\n"
      ],
      "execution_count": 16,
      "outputs": [
        {
          "output_type": "stream",
          "text": [
            "_________________________________________________________________\n",
            "Layer (type)                 Output Shape              Param #   \n",
            "=================================================================\n",
            "conv_layer_1 (Conv2D)        (None, 28, 28, 16)        160       \n",
            "_________________________________________________________________\n",
            "leaky_re_lu_1 (LeakyReLU)    (None, 28, 28, 16)        0         \n",
            "_________________________________________________________________\n",
            "conv_layer_2 (Conv2D)        (None, 28, 28, 32)        4640      \n",
            "_________________________________________________________________\n",
            "leaky_re_lu_2 (LeakyReLU)    (None, 28, 28, 32)        0         \n",
            "_________________________________________________________________\n",
            "max_pool_1 (MaxPooling2D)    (None, 14, 14, 32)        0         \n",
            "_________________________________________________________________\n",
            "dropout_1 (Dropout)          (None, 14, 14, 32)        0         \n",
            "_________________________________________________________________\n",
            "conv_layer_3 (Conv2D)        (None, 14, 14, 32)        9248      \n",
            "_________________________________________________________________\n",
            "leaky_re_lu_3 (LeakyReLU)    (None, 14, 14, 32)        0         \n",
            "_________________________________________________________________\n",
            "conv_layer_4 (Conv2D)        (None, 14, 14, 64)        18496     \n",
            "_________________________________________________________________\n",
            "leaky_re_lu_4 (LeakyReLU)    (None, 14, 14, 64)        0         \n",
            "_________________________________________________________________\n",
            "max_pool_2 (MaxPooling2D)    (None, 7, 7, 64)          0         \n",
            "_________________________________________________________________\n",
            "dropout_2 (Dropout)          (None, 7, 7, 64)          0         \n",
            "_________________________________________________________________\n",
            "flatten_1 (Flatten)          (None, 3136)              0         \n",
            "_________________________________________________________________\n",
            "fc1 (Dense)                  (None, 256)               803072    \n",
            "_________________________________________________________________\n",
            "dropout_3 (Dropout)          (None, 256)               0         \n",
            "_________________________________________________________________\n",
            "dense_1 (Dense)              (None, 10)                2570      \n",
            "_________________________________________________________________\n",
            "activation_1 (Activation)    (None, 10)                0         \n",
            "=================================================================\n",
            "Total params: 838,186\n",
            "Trainable params: 838,186\n",
            "Non-trainable params: 0\n",
            "_________________________________________________________________\n"
          ],
          "name": "stdout"
        }
      ]
    },
    {
      "metadata": {
        "id": "BYHNXl_fItjP",
        "colab_type": "code",
        "outputId": "82d8c537-10f6-462e-d0e1-316f27a9fcdc",
        "colab": {
          "base_uri": "https://localhost:8080/",
          "height": 391
        }
      },
      "cell_type": "code",
      "source": [
        "model.fit(\n",
        "    x_train2, \n",
        "    y_train2,\n",
        "    batch_size=8, \n",
        "    epochs=10,\n",
        "    validation_split= 0.3,\n",
        "    #validation_data=(x_test2, y_test2),\n",
        "    verbose = 1,shuffle=True\n",
        ")"
      ],
      "execution_count": 17,
      "outputs": [
        {
          "output_type": "stream",
          "text": [
            "Train on 3500 samples, validate on 1500 samples\n",
            "Epoch 1/10\n",
            "3500/3500 [==============================] - 7s 2ms/step - loss: 2.3029 - acc: 0.0926 - val_loss: 2.3006 - val_acc: 0.0993\n",
            "Epoch 2/10\n",
            "3500/3500 [==============================] - 6s 2ms/step - loss: 2.3024 - acc: 0.1131 - val_loss: 2.3009 - val_acc: 0.0993\n",
            "Epoch 3/10\n",
            "3500/3500 [==============================] - 5s 2ms/step - loss: 2.3022 - acc: 0.1043 - val_loss: 2.2984 - val_acc: 0.1227\n",
            "Epoch 4/10\n",
            "3500/3500 [==============================] - 5s 2ms/step - loss: 2.3028 - acc: 0.0960 - val_loss: 2.2986 - val_acc: 0.1080\n",
            "Epoch 5/10\n",
            "3500/3500 [==============================] - 5s 2ms/step - loss: 2.3029 - acc: 0.1097 - val_loss: 2.2987 - val_acc: 0.1080\n",
            "Epoch 6/10\n",
            "3500/3500 [==============================] - 6s 2ms/step - loss: 2.3029 - acc: 0.0997 - val_loss: 2.2982 - val_acc: 0.1080\n",
            "Epoch 7/10\n",
            "3500/3500 [==============================] - 6s 2ms/step - loss: 2.3020 - acc: 0.1037 - val_loss: 2.2992 - val_acc: 0.0993\n",
            "Epoch 8/10\n",
            "3500/3500 [==============================] - 5s 2ms/step - loss: 2.3015 - acc: 0.1069 - val_loss: 2.2992 - val_acc: 0.0993\n",
            "Epoch 9/10\n",
            "3500/3500 [==============================] - 5s 2ms/step - loss: 2.3018 - acc: 0.1089 - val_loss: 2.2988 - val_acc: 0.0993\n",
            "Epoch 10/10\n",
            "3500/3500 [==============================] - 5s 2ms/step - loss: 2.3019 - acc: 0.0977 - val_loss: 2.2993 - val_acc: 0.1080\n"
          ],
          "name": "stdout"
        },
        {
          "output_type": "execute_result",
          "data": {
            "text/plain": [
              "<keras.callbacks.History at 0x7f5f41dcbb00>"
            ]
          },
          "metadata": {
            "tags": []
          },
          "execution_count": 17
        }
      ]
    },
    {
      "metadata": {
        "id": "u2FppetZIwiP",
        "colab_type": "code",
        "outputId": "911e3a61-dceb-4e7f-db00-582dd129c00c",
        "colab": {
          "base_uri": "https://localhost:8080/",
          "height": 34
        }
      },
      "cell_type": "code",
      "source": [
        "y_pred_test = model.predict(x_test2)\n",
        "y_pred_test_classes = np.argmax(y_pred_test, axis=1)\n",
        "y_pred_test_max_probas = np.max(y_pred_test, axis=1)\n",
        "print(\"Test accuracy:\", accuracy_score(y_test, y_pred_test_classes))"
      ],
      "execution_count": 18,
      "outputs": [
        {
          "output_type": "stream",
          "text": [
            "Test accuracy: 0.12\n"
          ],
          "name": "stdout"
        }
      ]
    },
    {
      "metadata": {
        "id": "6pEOt2RBIzkE",
        "colab_type": "code",
        "colab": {}
      },
      "cell_type": "code",
      "source": [
        "model.save_weights(\"weights.h5\")"
      ],
      "execution_count": 0,
      "outputs": []
    },
    {
      "metadata": {
        "id": "0Y8lZ3Xde5Fb",
        "colab_type": "code",
        "colab": {
          "base_uri": "https://localhost:8080/",
          "height": 416
        },
        "outputId": "79cc10c3-7547-4e54-83e0-00b4b1671a67"
      },
      "cell_type": "code",
      "source": [
        "# confusion matrix and accuracy\n",
        "from sklearn.metrics import confusion_matrix, accuracy_score\n",
        "plt.figure(figsize=(7, 6))\n",
        "plt.title('Confusion matrix', fontsize=16)\n",
        "plt.imshow(confusion_matrix(y_test, y_pred_test_classes))\n",
        "plt.xticks(np.arange(10), mnist_classes, rotation=45, fontsize=12)\n",
        "plt.yticks(np.arange(10), mnist_classes, fontsize=12)\n",
        "plt.colorbar()\n",
        "plt.show()\n",
        "print(\"Test accuracy:\", accuracy_score(y_test, y_pred_test_classes))\n",
        "print(\"Test accuracy:\", accuracy_score(y_test, y_pred_test_classes))"
      ],
      "execution_count": 20,
      "outputs": [
        {
          "output_type": "display_data",
          "data": {
            "image/png": "[encoded data removed]",
            "text/plain": [
              "<matplotlib.figure.Figure at 0x7f5f4004e9b0>"
            ]
          },
          "metadata": {
            "tags": []
          }
        },
        {
          "output_type": "stream",
          "text": [
            "Test accuracy: 0.12\n",
            "Test accuracy: 0.12\n"
          ],
          "name": "stdout"
        }
      ]
    },
    {
      "metadata": {
        "id": "P-M7fhbGOprM",
        "colab_type": "code",
        "colab": {
          "base_uri": "https://localhost:8080/",
          "height": 328
        },
        "outputId": "8ff7d5bb-6aef-4704-924a-9654fd6f0537"
      },
      "cell_type": "code",
      "source": [
        "# inspect preditions\n",
        "cols = 8\n",
        "rows = 2\n",
        "fig = plt.figure(figsize=(2 * cols - 1, 3 * rows - 1))\n",
        "for i in range(cols):\n",
        "    for j in range(rows):\n",
        "        random_index = np.random.randint(0, len(y_test))\n",
        "        ax = fig.add_subplot(rows, cols, i * rows + j + 1)\n",
        "        ax.grid('off')\n",
        "        ax.axis('off')\n",
        "        ax.imshow(x_test[random_index, :])\n",
        "        pred_label = mnist_classes[y_pred_test_classes[random_index]]\n",
        "        pred_proba = y_pred_test_max_probas[random_index]\n",
        "        true_label = mnist_classes[y_test[random_index, ]]\n",
        "        ax.set_title(\"pred: {}\\nscore: {:.3}\\ntrue: {}\".format(\n",
        "               pred_label, pred_proba, true_label\n",
        "        ))\n",
        "plt.show()"
      ],
      "execution_count": 21,
      "outputs": [
        {
          "output_type": "display_data",
          "data": {
            "image/png": "[encoded data removed]",
            "text/plain": [
              "<matplotlib.figure.Figure at 0x7f5f2e7be1d0>"
            ]
          },
          "metadata": {
            "tags": []
          }
        }
      ]
    },
    {
      "metadata": {
        "id": "0pnpomcd-PTG",
        "colab_type": "code",
        "colab": {}
      },
      "cell_type": "code",
      "source": [
        "def find_maximum_stimuli(layer_name, is_conv, filter_index, model, iterations=20, step=1., verbose=True):\n",
        "    \n",
        "    def image_values_to_rgb(x):\n",
        "        # normalize x: center on 0 (np.mean(x_train2)), ensure std is 0.25 (np.std(x_train2))\n",
        "        # so that it looks like a normalized image input for our network\n",
        "        x = (x - np.mean(x_train2)) / np.std(x_train2)\n",
        "\n",
        "        # do reverse normalization to RGB values: x = (x_norm + 0.5) * 255\n",
        "        x = (x + 0.5) * 255\n",
        "    \n",
        "        # clip values to [0, 255] and convert to bytes\n",
        "        x = np.clip(x, 0, 255).astype('uint8')\n",
        "        return x\n",
        "\n",
        "    # this is the placeholder for the input image\n",
        "    input_img = model.input\n",
        "    img_width, img_height = input_img.shape.as_list()[1:3]\n",
        "    \n",
        "    # find the layer output by name\n",
        "    layer_output = list(filter(lambda x: x.name == layer_name, model.layers))[0].output\n",
        "\n",
        "    # we build a loss function that maximizes the activation\n",
        "    # of the filter_index filter of the layer considered\n",
        "    if is_conv:\n",
        "        # mean over feature map values for convolutional layer\n",
        "        loss = K.mean(layer_output[:, :, :, filter_index])\n",
        "    else:\n",
        "        loss = K.mean(layer_output[:, filter_index])\n",
        "\n",
        "    # we compute the gradient of the loss wrt input image\n",
        "    grads = K.gradients(loss, input_img)[0]  # [0] because of the batch dimension!\n",
        "\n",
        "    # normalization trick: we normalize the gradient\n",
        "    grads = grads / (K.sqrt(K.sum(K.square(grads))) + 1e-10)\n",
        "\n",
        "    # this function returns the loss and grads given the input picture\n",
        "    iterate = K.function([input_img], [loss, grads])\n",
        "\n",
        "    # we start from a gray image with some random noise\n",
        "    input_img_data = np.random.random((1, img_width, img_height, 1))\n",
        "    input_img_data = (input_img_data - 0.5) * (0.1 if is_conv else 0.001)\n",
        "\n",
        "    # we run gradient ascent\n",
        "    for i in range(iterations):\n",
        "        loss_value, grads_value = iterate([input_img_data])\n",
        "        input_img_data += grads_value * step\n",
        "        if verbose:\n",
        "            print('Current loss value:', loss_value)\n",
        "\n",
        "    # decode the resulting input image\n",
        "    img = image_values_to_rgb(input_img_data[0])\n",
        "    \n",
        "    return img, loss_value\n"
      ],
      "execution_count": 0,
      "outputs": []
    },
    {
      "metadata": {
        "id": "i4gvVMkfRiM-",
        "colab_type": "code",
        "colab": {}
      },
      "cell_type": "code",
      "source": [
        "# sample maximum stimuli\n",
        "def plot_filters_stimuli(layer_name, is_conv, model, iterations=20, step=1., verbose=False):\n",
        "    cols = 8\n",
        "    rows = 2\n",
        "    filter_index = 0\n",
        "    max_filter_index = list(filter(lambda x: x.name == layer_name, model.layers))[0].output.shape.as_list()[-1] - 1\n",
        "    fig = plt.figure(figsize=(2 * cols - 1, 3 * rows - 1))\n",
        "    for i in range(cols):\n",
        "        for j in range(rows):\n",
        "            if filter_index <= max_filter_index:\n",
        "                ax = fig.add_subplot(rows, cols, i * rows + j + 1)\n",
        "                ax.grid('off')\n",
        "                ax.axis('off')\n",
        "                loss = -1e20\n",
        "                while loss < 0 and filter_index <= max_filter_index:\n",
        "                    stimuli, loss = find_maximum_stimuli(layer_name, is_conv, filter_index, model,\n",
        "                                                         iterations, step, verbose=verbose)\n",
        "                    filter_index += 1\n",
        "                if loss > 0:\n",
        "                    stimuli2= [[]]\n",
        "                    stimuli2 = stimuli[:,:,0]\n",
        "                    ax.imshow(stimuli2)\n",
        "                    ax.set_title(\"Filter #{}\".format(filter_index))\n",
        "    plt.show()\n"
      ],
      "execution_count": 0,
      "outputs": []
    },
    {
      "metadata": {
        "id": "Wb0QKEwYRjk9",
        "colab_type": "code",
        "colab": {
          "base_uri": "https://localhost:8080/",
          "height": 1251
        },
        "outputId": "8c1d6c7c-7a3d-4962-ecd6-9cae08764634"
      },
      "cell_type": "code",
      "source": [
        "# maximum stimuli for convolutional neurons\n",
        "conv_activation_layers = []\n",
        "for layer in model.layers:\n",
        "    #if isinstance(layer, LeakyReLU):\n",
        "        #prev_layer = layer.inbound_nodes[0].inbound_layers[0]\n",
        "        if isinstance(layer, Conv2D):\n",
        "            conv_activation_layers.append(layer)\n",
        "\n",
        "for layer in conv_activation_layers:\n",
        "    print(layer.name)\n",
        "    plot_filters_stimuli(layer_name=layer.name, is_conv=True, model=model)\n",
        "\n"
      ],
      "execution_count": 24,
      "outputs": [
        {
          "output_type": "stream",
          "text": [
            "conv_layer_1\n"
          ],
          "name": "stdout"
        },
        {
          "output_type": "stream",
          "text": [
            "/usr/local/lib/python3.6/dist-packages/ipykernel_launcher.py:6: RuntimeWarning: divide by zero encountered in true_divide\n",
            "  \n"
          ],
          "name": "stderr"
        },
        {
          "output_type": "display_data",
          "data": {
            "image/png": "[encoded data removed]",
            "text/plain": [
              "<matplotlib.figure.Figure at 0x7f5f400c0c88>"
            ]
          },
          "metadata": {
            "tags": []
          }
        },
        {
          "output_type": "stream",
          "text": [
            "conv_layer_2\n"
          ],
          "name": "stdout"
        },
        {
          "output_type": "display_data",
          "data": {
            "image/png": "[encoded data removed]",
            "text/plain": [
              "<matplotlib.figure.Figure at 0x7f5f2dfe0780>"
            ]
          },
          "metadata": {
            "tags": []
          }
        },
        {
          "output_type": "stream",
          "text": [
            "conv_layer_3\n"
          ],
          "name": "stdout"
        },
        {
          "output_type": "display_data",
          "data": {
            "image/png": "[encoded data removed]",
            "text/plain": [
              "<matplotlib.figure.Figure at 0x7f5f2d6fef28>"
            ]
          },
          "metadata": {
            "tags": []
          }
        },
        {
          "output_type": "stream",
          "text": [
            "conv_layer_4\n"
          ],
          "name": "stdout"
        },
        {
          "output_type": "display_data",
          "data": {
            "image/png": "[encoded data removed]",
            "text/plain": [
              "<matplotlib.figure.Figure at 0x7f5f2c237f60>"
            ]
          },
          "metadata": {
            "tags": []
          }
        }
      ]
    }
  ]
}